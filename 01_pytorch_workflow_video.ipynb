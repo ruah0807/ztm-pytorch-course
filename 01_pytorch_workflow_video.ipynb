{
 "cells": [
  {
   "cell_type": "markdown",
   "metadata": {},
   "source": [
    "## PyTorch Workflow\n",
    "\n",
    "Let's explore an example PyTorch end-to-end workflow\n",
    "\n",
    "Resources :\n",
    "- Ground truth notebook : https://github.com/mrdbourke/pytorch-deep-learning/blob/main/01_pytorch_workflow.ipynb\n",
    "- Book version of notebook : https://www.learnpytorch.io/01_pytorch_workflow/\n",
    "- Ask a Question : https://github.com/mrdbourke/pytorch-deep-learning/discussions\n"
   ]
  },
  {
   "cell_type": "code",
   "execution_count": 1,
   "metadata": {},
   "outputs": [
    {
     "data": {
      "text/plain": [
       "{1: 'data(prepare and load)',\n",
       " 2: 'build model',\n",
       " 3: 'fitting the model to data(training)',\n",
       " 4: 'making predictions and evaluting a model (inference)',\n",
       " 5: 'saving and loading a model',\n",
       " 6: 'putting it all together'}"
      ]
     },
     "execution_count": 1,
     "metadata": {},
     "output_type": "execute_result"
    }
   ],
   "source": [
    "what_were_covering = { 1 : \"data(prepare and load)\",\n",
    "                       2 : \"build model\",\n",
    "                       3 : \"fitting the model to data(training)\",\n",
    "                       4 : \"making predictions and evaluting a model (inference)\",\n",
    "                       5 : \"saving and loading a model\",\n",
    "                       6 : \"putting it all together\"}\n",
    "what_were_covering"
   ]
  },
  {
   "cell_type": "code",
   "execution_count": 2,
   "metadata": {},
   "outputs": [
    {
     "data": {
      "text/plain": [
       "'2.4.0'"
      ]
     },
     "execution_count": 2,
     "metadata": {},
     "output_type": "execute_result"
    }
   ],
   "source": [
    "import torch\n",
    "from torch import nn # nn contains all of PyTorch's building blocks for neural networks\n",
    "import matplotlib.pyplot as plt\n",
    "\n",
    "# Check PyTorch version\n",
    "torch.__version__\n"
   ]
  },
  {
   "cell_type": "markdown",
   "metadata": {},
   "source": [
    "## Preparing and loading data\n",
    "\n",
    "Data can be almost anything in machine learning\n",
    "\n",
    "* excel spreadsheet\n",
    "* images of any kind\n",
    "* videos (YouTube has lots of data)\n",
    "* audio like songs or podcasts\n",
    "* DNA\n",
    "* Text\n",
    "\n",
    "Machine learning is a game of two parts :\n",
    "\n",
    "1. 데이터를 숫자 표현으로 변환\n",
    "2. 해당 숫자 표현으로 패턴을 학습하는 모델을 구축\n",
    "\n",
    "- Linear Regression(선형 회귀) \n",
    "    - 선형 회귀는 가장 단순한 지도 학습(Supervised Learning) 알고리즘 중 하나이다. \n",
    "    - 주어진 데이터를 기반으로 독립 변수  X 와 종속 변수  y  사이의 선형 관계를 찾는 모델\n",
    "\n",
    "\n"
   ]
  },
  {
   "cell_type": "code",
   "execution_count": 1,
   "metadata": {},
   "outputs": [
    {
     "name": "stdout",
     "output_type": "stream",
     "text": [
      "X: tensor([[0.0000],\n",
      "        [0.0200],\n",
      "        [0.0400],\n",
      "        [0.0600],\n",
      "        [0.0800],\n",
      "        [0.1000],\n",
      "        [0.1200],\n",
      "        [0.1400],\n",
      "        [0.1600],\n",
      "        [0.1800]])\n",
      "y: tensor([[0.3000],\n",
      "        [0.3140],\n",
      "        [0.3280],\n",
      "        [0.3420],\n",
      "        [0.3560],\n",
      "        [0.3700],\n",
      "        [0.3840],\n",
      "        [0.3980],\n",
      "        [0.4120],\n",
      "        [0.4260]])\n",
      "X 길이: 50\n",
      "y 길이: 50\n"
     ]
    }
   ],
   "source": [
    "import torch\n",
    "\n",
    "# 1. 가중치와 편향 설정\n",
    "weight = 0.7  # b\n",
    "bias = 0.3    # a\n",
    "\n",
    "# 2. 데이터 생성 (입력값 X)\n",
    "start = 0\n",
    "end = 1\n",
    "step = 0.02\n",
    "X = torch.arange(start, end, step).unsqueeze(dim=1)\n",
    "y= weight * X + bias\n",
    "\n",
    "# 3. 출력값 Y 계산\n",
    "y = weight * X + bias  # 선형 회귀 공식 적용\n",
    "\n",
    "# 4. 데이터 확인\n",
    "print(\"X:\", X[:10])  # X의 처음 10개 값\n",
    "print(\"y:\", y[:10])  # y의 처음 10개 값\n",
    "print(\"X 길이:\", len(X))\n",
    "print(\"y 길이:\", len(y))"
   ]
  },
  {
   "cell_type": "markdown",
   "metadata": {},
   "source": [
    "### Splitting data into training and testing data sets (One of the most important concepts and machine learning)\n",
    "데이터를 훈련 세트와 테스트 세트로 분할하는 것은 가장 중요한 개념 중 하나이다.\n",
    "\n",
    "- Three datasets : 데이터를 세 가지 데이터 세트로 분할\n",
    "    - Training set : 모델을 학습하는 데 사용되는 데이터 (60-80%)\n",
    "    - Validation set : 모델을 평가하는 데 사용되는 데이터 (10-20%)\n",
    "    - Test set : 모델을 평가하는 데 사용되는 데이터 (10-20%)\n",
    "\n"
   ]
  },
  {
   "cell_type": "code",
   "execution_count": 3,
   "metadata": {},
   "outputs": [
    {
     "data": {
      "text/plain": [
       "(40, 40, 10, 10)"
      ]
     },
     "execution_count": 3,
     "metadata": {},
     "output_type": "execute_result"
    }
   ],
   "source": [
    "# Create a train/test split\n",
    "train_split = int(0.8 * len(X))\n",
    "X_train, y_train = X[:train_split], y[:train_split] # 훈련 세트로 분할\n",
    "X_test, y_test = X[train_split:], y[train_split:] # 테스트 세트로 분할\n",
    "\n",
    "len(X_train), len(y_train), len(X_test), len(y_test) # 훈련 세트와 테스트 세트의 길이 출력\n"
   ]
  },
  {
   "cell_type": "code",
   "execution_count": 4,
   "metadata": {},
   "outputs": [
    {
     "data": {
      "text/plain": [
       "(tensor([[0.0000],\n",
       "         [0.0200],\n",
       "         [0.0400],\n",
       "         [0.0600],\n",
       "         [0.0800],\n",
       "         [0.1000],\n",
       "         [0.1200],\n",
       "         [0.1400],\n",
       "         [0.1600],\n",
       "         [0.1800],\n",
       "         [0.2000],\n",
       "         [0.2200],\n",
       "         [0.2400],\n",
       "         [0.2600],\n",
       "         [0.2800],\n",
       "         [0.3000],\n",
       "         [0.3200],\n",
       "         [0.3400],\n",
       "         [0.3600],\n",
       "         [0.3800],\n",
       "         [0.4000],\n",
       "         [0.4200],\n",
       "         [0.4400],\n",
       "         [0.4600],\n",
       "         [0.4800],\n",
       "         [0.5000],\n",
       "         [0.5200],\n",
       "         [0.5400],\n",
       "         [0.5600],\n",
       "         [0.5800],\n",
       "         [0.6000],\n",
       "         [0.6200],\n",
       "         [0.6400],\n",
       "         [0.6600],\n",
       "         [0.6800],\n",
       "         [0.7000],\n",
       "         [0.7200],\n",
       "         [0.7400],\n",
       "         [0.7600],\n",
       "         [0.7800]]),\n",
       " tensor([[0.3000],\n",
       "         [0.3140],\n",
       "         [0.3280],\n",
       "         [0.3420],\n",
       "         [0.3560],\n",
       "         [0.3700],\n",
       "         [0.3840],\n",
       "         [0.3980],\n",
       "         [0.4120],\n",
       "         [0.4260],\n",
       "         [0.4400],\n",
       "         [0.4540],\n",
       "         [0.4680],\n",
       "         [0.4820],\n",
       "         [0.4960],\n",
       "         [0.5100],\n",
       "         [0.5240],\n",
       "         [0.5380],\n",
       "         [0.5520],\n",
       "         [0.5660],\n",
       "         [0.5800],\n",
       "         [0.5940],\n",
       "         [0.6080],\n",
       "         [0.6220],\n",
       "         [0.6360],\n",
       "         [0.6500],\n",
       "         [0.6640],\n",
       "         [0.6780],\n",
       "         [0.6920],\n",
       "         [0.7060],\n",
       "         [0.7200],\n",
       "         [0.7340],\n",
       "         [0.7480],\n",
       "         [0.7620],\n",
       "         [0.7760],\n",
       "         [0.7900],\n",
       "         [0.8040],\n",
       "         [0.8180],\n",
       "         [0.8320],\n",
       "         [0.8460]]))"
      ]
     },
     "execution_count": 4,
     "metadata": {},
     "output_type": "execute_result"
    }
   ],
   "source": [
    "X_train, y_train"
   ]
  },
  {
   "cell_type": "markdown",
   "metadata": {},
   "source": [
    "데이터를 어떻게 하면 더 잘 시각화할 수있을까?\n",
    "그리고 이것이 데이터 탐색기의 모토가 등장하는 곳이다\n",
    "\n",
    "Visualize !"
   ]
  },
  {
   "cell_type": "code",
   "execution_count": 5,
   "metadata": {},
   "outputs": [],
   "source": [
    "def plot_predictions(train_data=X_train,\n",
    "                     train_labels = y_train,\n",
    "                     test_data = X_test,\n",
    "                     test_labels = y_test,\n",
    "                     predictions = None):\n",
    "    \"데이터를 테스트하고 예측하고, 비교\"\n",
    "    plt.figure(figsize=(10,7))\n",
    "\n",
    "    # plot training data in blue\n",
    "    plt.scatter(train_data, train_labels, c=\"b\", s = 4, label=\"Training data\")\n",
    "\n",
    "    # plot test data in green\n",
    "    plt.scatter(test_data, test_labels, c=\"g\", s = 4, label=\"Testing data\")\n",
    "\n",
    "    # Are there predictions?\n",
    "    if predictions is not None:\n",
    "        # plot the predictions in red if they exist\n",
    "        plt.scatter(test_data, predictions, c=\"r\", s = 4, label=\"Predictions\")\n",
    "\n",
    "    # Show the legend\n",
    "    plt.legend(prop={\"size\": 14})\n"
   ]
  },
  {
   "cell_type": "code",
   "execution_count": null,
   "metadata": {},
   "outputs": [],
   "source": []
  }
 ],
 "metadata": {
  "kernelspec": {
   "display_name": "pytorch",
   "language": "python",
   "name": "python3"
  },
  "language_info": {
   "codemirror_mode": {
    "name": "ipython",
    "version": 3
   },
   "file_extension": ".py",
   "mimetype": "text/x-python",
   "name": "python",
   "nbconvert_exporter": "python",
   "pygments_lexer": "ipython3",
   "version": "3.8.13"
  }
 },
 "nbformat": 4,
 "nbformat_minor": 2
}
