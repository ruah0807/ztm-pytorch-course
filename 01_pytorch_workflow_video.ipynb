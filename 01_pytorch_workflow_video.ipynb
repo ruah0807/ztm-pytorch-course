{
 "cells": [
  {
   "cell_type": "markdown",
   "metadata": {},
   "source": [
    "## PyTorch Workflow\n",
    "\n",
    "Let's explore an example PyTorch end-to-end workflow\n",
    "\n",
    "Resources :\n",
    "- Ground truth notebook : https://github.com/mrdbourke/pytorch-deep-learning/blob/main/01_pytorch_workflow.ipynb\n",
    "- Book version of notebook : https://www.learnpytorch.io/01_pytorch_workflow/\n",
    "- Ask a Question : https://github.com/mrdbourke/pytorch-deep-learning/discussions\n"
   ]
  },
  {
   "cell_type": "code",
   "execution_count": 1,
   "metadata": {},
   "outputs": [
    {
     "data": {
      "text/plain": [
       "{1: 'data(prepare and load)',\n",
       " 2: 'build model',\n",
       " 3: 'fitting the model to data(training)',\n",
       " 4: 'making predictions and evaluting a model (inference)',\n",
       " 5: 'saving and loading a model',\n",
       " 6: 'putting it all together'}"
      ]
     },
     "execution_count": 1,
     "metadata": {},
     "output_type": "execute_result"
    }
   ],
   "source": [
    "what_were_covering = { 1 : \"data(prepare and load)\",\n",
    "                       2 : \"build model\",\n",
    "                       3 : \"fitting the model to data(training)\",\n",
    "                       4 : \"making predictions and evaluting a model (inference)\",\n",
    "                       5 : \"saving and loading a model\",\n",
    "                       6 : \"putting it all together\"}\n",
    "what_were_covering"
   ]
  },
  {
   "cell_type": "code",
   "execution_count": 2,
   "metadata": {},
   "outputs": [
    {
     "data": {
      "text/plain": [
       "'2.4.0'"
      ]
     },
     "execution_count": 2,
     "metadata": {},
     "output_type": "execute_result"
    }
   ],
   "source": [
    "import torch\n",
    "from torch import nn # nn contains all of PyTorch's building blocks for neural networks\n",
    "import matplotlib.pyplot as plt\n",
    "\n",
    "# Check PyTorch version\n",
    "torch.__version__\n"
   ]
  },
  {
   "cell_type": "markdown",
   "metadata": {},
   "source": [
    "## Preparing and loading data\n",
    "\n",
    "Data can be almost anything in machine learning\n",
    "\n",
    "* excel spreadsheet\n",
    "* images of any kind\n",
    "* videos (YouTube has lots of data)\n",
    "* audio like songs or podcasts\n",
    "* DNA\n",
    "* Text\n",
    "\n",
    "Machine learning is a game of two parts :\n",
    "\n",
    "1. 데이터를 숫자 표현으로 변환\n",
    "2. 해당 숫자 표현으로 패턴을 학습하는 모델을 구축\n",
    "\n",
    "- Linear Regression(선형 회귀) \n",
    "    - 선형 회귀는 가장 단순한 지도 학습(Supervised Learning) 알고리즘 중 하나이다. \n",
    "    - 주어진 데이터를 기반으로 독립 변수  X 와 종속 변수  y  사이의 선형 관계를 찾는 모델\n",
    "\n",
    "\n"
   ]
  },
  {
   "cell_type": "code",
   "execution_count": null,
   "metadata": {},
   "outputs": [],
   "source": []
  }
 ],
 "metadata": {
  "kernelspec": {
   "display_name": "pytorch",
   "language": "python",
   "name": "python3"
  },
  "language_info": {
   "codemirror_mode": {
    "name": "ipython",
    "version": 3
   },
   "file_extension": ".py",
   "mimetype": "text/x-python",
   "name": "python",
   "nbconvert_exporter": "python",
   "pygments_lexer": "ipython3",
   "version": "3.8.13"
  }
 },
 "nbformat": 4,
 "nbformat_minor": 2
}
