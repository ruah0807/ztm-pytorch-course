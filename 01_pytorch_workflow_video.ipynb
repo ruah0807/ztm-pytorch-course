{
 "cells": [
  {
   "cell_type": "markdown",
   "metadata": {},
   "source": [
    "## PyTorch Workflow\n",
    "\n",
    "Let's explore an example PyTorch end-to-end workflow\n",
    "\n",
    "Resources :\n",
    "- Ground truth notebook : https://github.com/mrdbourke/pytorch-deep-learning/blob/main/01_pytorch_workflow.ipynb\n",
    "- Book version of notebook : https://www.learnpytorch.io/01_pytorch_workflow/\n",
    "- Ask a Question : https://github.com/mrdbourke/pytorch-deep-learning/discussions\n"
   ]
  },
  {
   "cell_type": "code",
   "execution_count": 49,
   "metadata": {},
   "outputs": [
    {
     "data": {
      "text/plain": [
       "{1: 'data(prepare and load)',\n",
       " 2: 'build model',\n",
       " 3: 'fitting the model to data(training)',\n",
       " 4: 'making predictions and evaluting a model (inference)',\n",
       " 5: 'saving and loading a model',\n",
       " 6: 'putting it all together'}"
      ]
     },
     "execution_count": 49,
     "metadata": {},
     "output_type": "execute_result"
    }
   ],
   "source": [
    "what_were_covering = { 1 : \"data(prepare and load)\",\n",
    "                       2 : \"build model\",\n",
    "                       3 : \"fitting the model to data(training)\",\n",
    "                       4 : \"making predictions and evaluting a model (inference)\",\n",
    "                       5 : \"saving and loading a model\",\n",
    "                       6 : \"putting it all together\"}\n",
    "what_were_covering"
   ]
  },
  {
   "cell_type": "code",
   "execution_count": 50,
   "metadata": {},
   "outputs": [
    {
     "data": {
      "text/plain": [
       "'2.4.0'"
      ]
     },
     "execution_count": 50,
     "metadata": {},
     "output_type": "execute_result"
    }
   ],
   "source": [
    "import torch\n",
    "from torch import nn # nn contains all of PyTorch's building blocks for neural networks\n",
    "import matplotlib.pyplot as plt\n",
    "\n",
    "# Check PyTorch version\n",
    "torch.__version__\n"
   ]
  },
  {
   "cell_type": "markdown",
   "metadata": {},
   "source": [
    "## Preparing and loading data\n",
    "\n",
    "Data can be almost anything in machine learning\n",
    "\n",
    "* excel spreadsheet\n",
    "* images of any kind\n",
    "* videos (YouTube has lots of data)\n",
    "* audio like songs or podcasts\n",
    "* DNA\n",
    "* Text\n",
    "\n",
    "Machine learning is a game of two parts :\n",
    "\n",
    "1. 데이터를 숫자 표현으로 변환\n",
    "2. 해당 숫자 표현으로 패턴을 학습하는 모델을 구축\n",
    "\n",
    "- Linear Regression(선형 회귀) \n",
    "    - 선형 회귀는 가장 단순한 지도 학습(Supervised Learning) 알고리즘 중 하나이다. \n",
    "    - 주어진 데이터를 기반으로 독립 변수  X 와 종속 변수  y  사이의 선형 관계를 찾는 모델\n",
    "\n",
    "\n"
   ]
  },
  {
   "cell_type": "code",
   "execution_count": 51,
   "metadata": {},
   "outputs": [
    {
     "name": "stdout",
     "output_type": "stream",
     "text": [
      "X: tensor([[0.0000],\n",
      "        [0.0200],\n",
      "        [0.0400],\n",
      "        [0.0600],\n",
      "        [0.0800],\n",
      "        [0.1000],\n",
      "        [0.1200],\n",
      "        [0.1400],\n",
      "        [0.1600],\n",
      "        [0.1800]])\n",
      "y: tensor([[0.3000],\n",
      "        [0.3140],\n",
      "        [0.3280],\n",
      "        [0.3420],\n",
      "        [0.3560],\n",
      "        [0.3700],\n",
      "        [0.3840],\n",
      "        [0.3980],\n",
      "        [0.4120],\n",
      "        [0.4260]])\n",
      "X 길이: 50\n",
      "y 길이: 50\n"
     ]
    }
   ],
   "source": [
    "import torch\n",
    "\n",
    "# 1. 가중치와 편향 설정\n",
    "weight= 0.7  # b\n",
    "bias = 0.3    # a\n",
    "\n",
    "# 2. 데이터 생성 (입력값 X)\n",
    "start = 0\n",
    "end = 1\n",
    "step = 0.02\n",
    "X = torch.arange(start, end, step).unsqueeze(dim=1)\n",
    "y= weight * X + bias\n",
    "\n",
    "# 3. 출력값 Y 계산\n",
    "y = weight * X + bias  # 선형 회귀 공식 적용\n",
    "\n",
    "# 4. 데이터 확인\n",
    "print(\"X:\", X[:10])  # X의 처음 10개 값\n",
    "print(\"y:\", y[:10])  # y의 처음 10개 값\n",
    "print(\"X 길이:\", len(X))\n",
    "print(\"y 길이:\", len(y))"
   ]
  },
  {
   "cell_type": "markdown",
   "metadata": {},
   "source": [
    "### Splitting data into training and testing data sets (One of the most important concepts and machine learning)\n",
    "데이터를 훈련 세트와 테스트 세트로 분할하는 것은 가장 중요한 개념 중 하나이다.\n",
    "\n",
    "- Three datasets : 데이터를 세 가지 데이터 세트로 분할\n",
    "    - Training set : 모델을 학습하는 데 사용되는 데이터 (60-80%)\n",
    "    - Validation set : 모델을 평가하는 데 사용되는 데이터 (10-20%)\n",
    "    - Test set : 모델을 평가하는 데 사용되는 데이터 (10-20%)\n",
    "\n"
   ]
  },
  {
   "cell_type": "code",
   "execution_count": 52,
   "metadata": {},
   "outputs": [
    {
     "data": {
      "text/plain": [
       "(40, 40, 10, 10)"
      ]
     },
     "execution_count": 52,
     "metadata": {},
     "output_type": "execute_result"
    }
   ],
   "source": [
    "# Create a train/test split\n",
    "train_split = int(0.8 * len(X))\n",
    "X_train, y_train = X[:train_split], y[:train_split] # 훈련 세트로 분할\n",
    "X_test, y_test = X[train_split:], y[train_split:] # 테스트 세트로 분할\n",
    "\n",
    "len(X_train), len(y_train), len(X_test), len(y_test) # 훈련 세트와 테스트 세트의 길이 출력\n"
   ]
  },
  {
   "cell_type": "code",
   "execution_count": null,
   "metadata": {},
   "outputs": [],
   "source": [
    "X_train, y_train"
   ]
  },
  {
   "cell_type": "markdown",
   "metadata": {},
   "source": [
    "데이터를 어떻게 하면 더 잘 시각화할 수있을까?\n",
    "그리고 이것이 데이터 탐색기의 모토가 등장하는 곳이다\n",
    "\n",
    "Visualize !"
   ]
  },
  {
   "cell_type": "code",
   "execution_count": 53,
   "metadata": {},
   "outputs": [],
   "source": [
    "def plot_predictions(train_data=X_train,\n",
    "                     train_labels = y_train,\n",
    "                     test_data = X_test,\n",
    "                     test_labels = y_test,\n",
    "                     predictions = None):\n",
    "    \"데이터를 테스트하고 예측하고, 비교\"\n",
    "    plt.figure(figsize=(10,7))\n",
    "\n",
    "    # plot training data in blue\n",
    "    plt.scatter(train_data, train_labels, c=\"b\", s = 4, label=\"Training data\")\n",
    "\n",
    "    # plot test data in green\n",
    "    plt.scatter(test_data, test_labels, c=\"g\", s = 4, label=\"Testing data\")\n",
    "\n",
    "    # Are there predictions?\n",
    "    if predictions is not None:\n",
    "        # plot the predictions in red if they exist\n",
    "        plt.scatter(test_data, predictions, c=\"r\", s = 4, label=\"Predictions\")\n",
    "\n",
    "    # Show the legend\n",
    "    plt.legend(prop={\"size\": 14})\n"
   ]
  },
  {
   "cell_type": "code",
   "execution_count": 54,
   "metadata": {},
   "outputs": [
    {
     "data": {
      "image/png": "[encoded data removed]",
      "text/plain": [
       "<Figure size 1000x700 with 1 Axes>"
      ]
     },
     "metadata": {},
     "output_type": "display_data"
    }
   ],
   "source": [
    "plot_predictions()"
   ]
  },
  {
   "cell_type": "markdown",
   "metadata": {},
   "source": [
    "## Building a model\n",
    "\n",
    "My first PyTorch model !\n",
    "\n",
    "OOP : Object-Oriented Programming in Python\n",
    "following resource from Real Python : https://realpython.com/python3-object-oriented-programming/\n",
    "\n",
    "What my model does :\n",
    "- 무작위 값(무게와 편향)으로 시작한다.\n",
    "- 훈련 데이터를 살펴보고 무작위 값을 조정하여 이상적인 값(데이터를 생성할 때 사용한 가중치 및 편향 값)을 더 잘 표현하거나 더 가깝게 만든다.\n",
    "\n",
    "How does it do it?\n",
    "1. Gradient descent 경사하강법\n",
    "2. Backpropagation 역전파\n"
   ]
  },
  {
   "cell_type": "code",
   "execution_count": 55,
   "metadata": {},
   "outputs": [],
   "source": [
    "from torch import nn\n",
    "# Create linear regression model class\n",
    "\n",
    "class LinearRegressionModel(nn.Module): # PyTorch의 거의 모든 것은 nn 모듈에서 상속되므로 nn.Module을 상속해야 한다.\n",
    "    def __init__(self):\n",
    "        super().__init__()\n",
    "        self.weights = nn.Parameter(torch.randn(1, # start with a random weights and try to adjust it to the ideal weights\n",
    "                                                requires_grad=True, # <- can this parameter be updated via gradient descent?\n",
    "                                                dtype=torch.float)) # <- PyTorch loves the datatype torch.float32\n",
    "        self.bias = nn.Parameter(torch.randn(1, # start with a random bias and try to adjust it to the ideal bias\n",
    "                                             requires_grad=True,\n",
    "                                             dtype=torch.float))\n",
    "    # Forward method to define the computation in the model : 모델에서 메소드를 정의하는 방법\n",
    "    def forward(self, x: torch.Tensor) -> torch.Tensor: # <- \"x\"는 입력 데이터를 나타내는 텐서\n",
    "        return self.weights * x + self.bias # 선형회귀 공식 적용\n",
    "\n"
   ]
  },
  {
   "cell_type": "markdown",
   "metadata": {},
   "source": []
  },
  {
   "cell_type": "markdown",
   "metadata": {},
   "source": [
    "### PyTorch model building essentials\n",
    "\n",
    "![](https://velog.velcdn.com/images/looa0807/post/c1309eac-9dab-4e05-97d3-94a9af307448/image.png)\n",
    "\n",
    "- **torch.nn** :  그래프 계산을 위한 모든 것을 포함한다.(뉴럴 네트워크)\n",
    "- **torch.nn.Parameter** : 모델이 학습하려고 시도해야 할 매개변수는 무엇이며, 종종 `torch.nn`의 PyTorch 레이어가 이를 설정한다.\n",
    "- **torch.nn.Module** : 모든 신경망 모듈의 기본 클래스를 하위 클래스로 분류할 경우`forward()`을 써야한다.\n",
    "- **torch.optim** : PyTorch의 옵티마이저들이 있는 곳, 경사 하강에 도움이 된다.\n",
    "- **def forward()** : 모든 `nn.Module` 하위 클래스는 `forward()`를 덮어쓰도록 요구. 이 메서드는 forward 계산에서 발생하는 일을 정의합니다\n",
    "\n",
    "See more of these essential modules via the PyTorch cheatsheet : https://pytorch.org/tutorials/beginner/ptcheat.html\n"
   ]
  },
  {
   "cell_type": "markdown",
   "metadata": {},
   "source": []
  },
  {
   "cell_type": "markdown",
   "metadata": {},
   "source": [
    "### Checking the contents of the PyTorch model\n",
    "\n",
    "Now we've created a model, let's check out its contents\n",
    "\n",
    "So we can check our model parameters or what's inside our model using `model.parameters()`\n"
   ]
  },
  {
   "cell_type": "code",
   "execution_count": 56,
   "metadata": {},
   "outputs": [
    {
     "data": {
      "text/plain": [
       "[Parameter containing:\n",
       " tensor([0.3367], requires_grad=True),\n",
       " Parameter containing:\n",
       " tensor([0.1288], requires_grad=True)]"
      ]
     },
     "execution_count": 56,
     "metadata": {},
     "output_type": "execute_result"
    }
   ],
   "source": [
    "# Create a random seed\n",
    "torch.manual_seed(42) # 랜덤 시드 고정\n",
    "\n",
    "# Create an instance of the model (this is a subclass of nn.Module)\n",
    "model_0 = LinearRegressionModel()\n",
    "\n",
    "# 모델의 내부 매개변수를 확인\n",
    "list(model_0.parameters())"
   ]
  },
  {
   "cell_type": "code",
   "execution_count": 57,
   "metadata": {},
   "outputs": [
    {
     "data": {
      "text/plain": [
       "OrderedDict([('weights', tensor([0.3367])), ('bias', tensor([0.1288]))])"
      ]
     },
     "execution_count": 57,
     "metadata": {},
     "output_type": "execute_result"
    }
   ],
   "source": [
    "# 매개변수 이름과 값을 딕셔너리 형태로 확인\n",
    "model_0.state_dict()"
   ]
  },
  {
   "cell_type": "code",
   "execution_count": null,
   "metadata": {},
   "outputs": [],
   "source": [
    "weight, bias"
   ]
  },
  {
   "cell_type": "markdown",
   "metadata": {},
   "source": [
    "### Making predictions using `torch.inference_mode()`\n",
    "\n",
    "To check our model's predictive power, let's see how well it predicts `y_test` based on `X_test`.\n",
    "When we pass data through our model, it's going to run it through the `forward()` method."
   ]
  },
  {
   "cell_type": "code",
   "execution_count": null,
   "metadata": {},
   "outputs": [],
   "source": [
    "X_test,y_test"
   ]
  },
  {
   "cell_type": "code",
   "execution_count": null,
   "metadata": {},
   "outputs": [],
   "source": [
    "y_preds = model_0(X_test)\n",
    "y_preds\n"
   ]
  },
  {
   "cell_type": "code",
   "execution_count": 58,
   "metadata": {},
   "outputs": [
    {
     "data": {
      "text/plain": [
       "tensor([[0.3982],\n",
       "        [0.4049],\n",
       "        [0.4116],\n",
       "        [0.4184],\n",
       "        [0.4251],\n",
       "        [0.4318],\n",
       "        [0.4386],\n",
       "        [0.4453],\n",
       "        [0.4520],\n",
       "        [0.4588]])"
      ]
     },
     "execution_count": 58,
     "metadata": {},
     "output_type": "execute_result"
    }
   ],
   "source": [
    "# Make predictions with the model\n",
    "with torch.inference_mode():\n",
    "    y_preds = model_0(X_test)\n",
    "\n",
    "# torch.no _grad(),으로 비슷한 작업을 수행할 수도 있지만, inference_mode()을 선호한다.\n",
    "with torch.no_grad():\n",
    "    y_preds = model_0(X_test)\n",
    "\n",
    "y_preds"
   ]
  },
  {
   "cell_type": "markdown",
   "metadata": {},
   "source": [
    "See more on inference mode : https://pytorch.org/docs/stable/generated/torch.inference_mode.html"
   ]
  },
  {
   "cell_type": "code",
   "execution_count": 59,
   "metadata": {},
   "outputs": [
    {
     "data": {
      "image/png": "[encoded data removed]",
      "text/plain": [
       "<Figure size 1000x700 with 1 Axes>"
      ]
     },
     "metadata": {},
     "output_type": "display_data"
    }
   ],
   "source": [
    "plot_predictions(predictions=y_preds)"
   ]
  },
  {
   "cell_type": "markdown",
   "metadata": {},
   "source": [
    "### 3. Train model\n",
    "\n",
    "훈련의 전체 개념은 모델이 어떤 알 수 없는 매개변수(이들은 무작위일 수 있음)에서 어떤 알 수 있는 매개변수로 이동하는 것이다. 데이터의 잘못된 표현에서 좋은 표현으로 이어지는 다른 최악의 상황에서도 마찬가지이다.\n",
    "\n",
    "모델 예측이 얼마나 부실하거나 얼마나 잘못된지 측정하는 한 가지 방법은 **loss function(손실 함수)**를 사용하는 것이다.\n",
    "\n",
    "* Note : 손실 함수는 다양한 영역에서 비용 함수 또는 기준이라고도 할 수 있다. 우리의 경우 손실 함수라고 부른다.\n",
    "\n",
    "Thins we need to train:\n",
    "\n",
    "* **Loss function** : 모델의 예측이 이상적인 출력에 얼마나 잘못된지를 측정하는 함수로, 낮을수록 좋다.\n",
    "* **Optimizer** : 모델의 손실을 고려하고, 모델의 매개변수(우리 경우에는 가중치와 편향)를 조정하여 손실 함수를 개선한다.\n",
    "\n",
    "PyTorch에 특정하게, 우리는 다음을 필요로 한다:\n",
    "* A training loop\n",
    "* A testing loop"
   ]
  },
  {
   "cell_type": "code",
   "execution_count": null,
   "metadata": {},
   "outputs": [],
   "source": [
    "list(model_0.parameters())"
   ]
  },
  {
   "cell_type": "code",
   "execution_count": null,
   "metadata": {},
   "outputs": [],
   "source": [
    "# Check out our model's parameters(a parameter is a value that the model learns during training)\n",
    "model_0.state_dict()"
   ]
  },
  {
   "cell_type": "code",
   "execution_count": 60,
   "metadata": {},
   "outputs": [],
   "source": [
    "# Setup a loss function\n",
    "loss_fn = nn.L1Loss()\n",
    "\n",
    "# Set up an optimizer(stochastic gradient descent)\n",
    "optimizer = torch.optim.SGD(params = model_0.parameters(),\n",
    "                            lr = 0.01) # lr = learning rate = 설정할 수 있는 가장 중요한 하이퍼파라미터"
   ]
  },
  {
   "cell_type": "markdown",
   "metadata": {},
   "source": [
    "Q. 어떤 손실 함수와 최적화 함수를 사용해야 할까요?\n",
    "\n",
    "A. 이는 문제에 따라 다를 것입니다. 그러나 경험을 쌓으면, 특정 문제 집합에서 무엇이 효과적이고 무엇이 아닌지 알게 됩니다.\n",
    "\n",
    "예를 들어, 회귀 문제의 경우, `nn.L1Loss()`의 손실 함수와 `torch.optim.SGD()`와 같은 최적화 함수가 충분하다.\n",
    "\n",
    "그러나 개와 고양이의 사진을 분류하는 것과 같은 분류 문제에서는 `nn.BCELoss()`(binary cross entropy loss)를 사용할 것이다.\n"
   ]
  },
  {
   "cell_type": "markdown",
   "metadata": {},
   "source": []
  },
  {
   "cell_type": "markdown",
   "metadata": {},
   "source": [
    "### PyTorch에서 훈련 루프 구축\n",
    " \n",
    " 훈련 루프에 필요한 몇 가지 사항:\n",
    " 0. training loop : 데이터를 반복문으로 처리\n",
    " 1. forward pass : 데이터를 모델의 `forward()` 함수를 통해 전달하여 예측을 수행하는 전방 전달 과정 - 전방 전파라고도 함\n",
    " 2. calculate loss(손실함수 계산) : 전방 전달 예측과 실제 라벨을 비교\n",
    " 3. optimizer zero grad(최적화 함수 초기화) : 매 에포마다 누적되므로, 각 전방 전달마다 새로 시작하도록 0으로 설정합니다.\n",
    " 4. loss backward(손실 역전파) : 손실에 대한 모델의 각 매개변수에 대한 기울기를 계산하기 위해 네트워크를 역방향으로 이동(**역전파(backpropagation)**)\n",
    " 5. optimizer step(최적화 함수 단계) : 최적화 함수를 사용하여 손실을 개선하려고 모델의 매개변수를 조정(**경사 하강(gradient descent)**)\n"
   ]
  },
  {
   "cell_type": "code",
   "execution_count": 61,
   "metadata": {},
   "outputs": [
    {
     "data": {
      "text/plain": [
       "[Parameter containing:\n",
       " tensor([0.3367], requires_grad=True),\n",
       " Parameter containing:\n",
       " tensor([0.1288], requires_grad=True)]"
      ]
     },
     "execution_count": 61,
     "metadata": {},
     "output_type": "execute_result"
    }
   ],
   "source": [
    "list(model_0.eval().parameters())"
   ]
  },
  {
   "cell_type": "code",
   "execution_count": null,
   "metadata": {},
   "outputs": [],
   "source": [
    "X_test, y_test"
   ]
  },
  {
   "cell_type": "code",
   "execution_count": 66,
   "metadata": {},
   "outputs": [
    {
     "name": "stdout",
     "output_type": "stream",
     "text": [
      "Epoch : 0 | Loss : 0.009748500771820545 | Test loss : 0.008172458037734032\n",
      "OrderedDict([('weights', tensor([0.6206])), ('bias', tensor([0.3788]))])\n",
      "Epoch : 10 | Loss : 0.009748500771820545 | Test loss : 0.008172458037734032\n",
      "OrderedDict([('weights', tensor([0.6206])), ('bias', tensor([0.3788]))])\n",
      "Epoch : 20 | Loss : 0.009748500771820545 | Test loss : 0.008172458037734032\n",
      "OrderedDict([('weights', tensor([0.6206])), ('bias', tensor([0.3788]))])\n",
      "Epoch : 30 | Loss : 0.009748500771820545 | Test loss : 0.008172458037734032\n",
      "OrderedDict([('weights', tensor([0.6206])), ('bias', tensor([0.3788]))])\n",
      "Epoch : 40 | Loss : 0.009748500771820545 | Test loss : 0.008172458037734032\n",
      "OrderedDict([('weights', tensor([0.6206])), ('bias', tensor([0.3788]))])\n",
      "Epoch : 50 | Loss : 0.009748500771820545 | Test loss : 0.008172458037734032\n",
      "OrderedDict([('weights', tensor([0.6206])), ('bias', tensor([0.3788]))])\n",
      "Epoch : 60 | Loss : 0.009748500771820545 | Test loss : 0.008172458037734032\n",
      "OrderedDict([('weights', tensor([0.6206])), ('bias', tensor([0.3788]))])\n",
      "Epoch : 70 | Loss : 0.009748500771820545 | Test loss : 0.008172458037734032\n",
      "OrderedDict([('weights', tensor([0.6206])), ('bias', tensor([0.3788]))])\n",
      "Epoch : 80 | Loss : 0.009748500771820545 | Test loss : 0.008172458037734032\n",
      "OrderedDict([('weights', tensor([0.6206])), ('bias', tensor([0.3788]))])\n",
      "Epoch : 90 | Loss : 0.009748500771820545 | Test loss : 0.008172458037734032\n",
      "OrderedDict([('weights', tensor([0.6206])), ('bias', tensor([0.3788]))])\n",
      "Epoch : 100 | Loss : 0.009748500771820545 | Test loss : 0.008172458037734032\n",
      "OrderedDict([('weights', tensor([0.6206])), ('bias', tensor([0.3788]))])\n",
      "Epoch : 110 | Loss : 0.009748500771820545 | Test loss : 0.008172458037734032\n",
      "OrderedDict([('weights', tensor([0.6206])), ('bias', tensor([0.3788]))])\n",
      "Epoch : 120 | Loss : 0.009748500771820545 | Test loss : 0.008172458037734032\n",
      "OrderedDict([('weights', tensor([0.6206])), ('bias', tensor([0.3788]))])\n",
      "Epoch : 130 | Loss : 0.009748500771820545 | Test loss : 0.008172458037734032\n",
      "OrderedDict([('weights', tensor([0.6206])), ('bias', tensor([0.3788]))])\n",
      "Epoch : 140 | Loss : 0.009748500771820545 | Test loss : 0.008172458037734032\n",
      "OrderedDict([('weights', tensor([0.6206])), ('bias', tensor([0.3788]))])\n",
      "Epoch : 150 | Loss : 0.009748500771820545 | Test loss : 0.008172458037734032\n",
      "OrderedDict([('weights', tensor([0.6206])), ('bias', tensor([0.3788]))])\n",
      "Epoch : 160 | Loss : 0.009748500771820545 | Test loss : 0.008172458037734032\n",
      "OrderedDict([('weights', tensor([0.6206])), ('bias', tensor([0.3788]))])\n",
      "Epoch : 170 | Loss : 0.009748500771820545 | Test loss : 0.008172458037734032\n",
      "OrderedDict([('weights', tensor([0.6206])), ('bias', tensor([0.3788]))])\n",
      "Epoch : 180 | Loss : 0.009748500771820545 | Test loss : 0.008172458037734032\n",
      "OrderedDict([('weights', tensor([0.6206])), ('bias', tensor([0.3788]))])\n",
      "Epoch : 190 | Loss : 0.009748500771820545 | Test loss : 0.008172458037734032\n",
      "OrderedDict([('weights', tensor([0.6206])), ('bias', tensor([0.3788]))])\n"
     ]
    }
   ],
   "source": [
    "torch.manual_seed(42) # 랜덤시드 설정(재현성을 위해)\n",
    "\n",
    "# epochs : 데이터를 반복하는 것 (이것은 우리가 직접 설정했기 때문에 하이퍼파라미터라고 한다.)\n",
    "epochs = 200\n",
    "\n",
    "# Track different values\n",
    "# 모델 진행 상황을 추적하는 데 도움이 되는 유용한 값을 저장하는 빈 리스트를 생성\n",
    "epoch_count = []\n",
    "loss_values = []\n",
    "test_loss_values = []\n",
    "\n",
    "# 0. 데이터를 반복문으로 처리\n",
    "# 데이터를 모델을 통해 일정 횟수(예: 100회의 데이터 통과)의 에포크를 수행\n",
    "for epoch in range(epochs):\n",
    "    # 모델을 훈련 모드로 설정\n",
    "    model_0.train()# PyTorch의 훈련 모드는 모든 기울기를 필요로 하는 매개변수를 훈련으로 설정.\n",
    "\n",
    "    # 1. forward pass\n",
    "    # 모델의 `forward()` 메서드를 수행하여 데이터를 모델을 통해 전달.\n",
    "    y_preds = model_0(X_test)\n",
    "\n",
    "    # 2. Calculate the loss \n",
    "    # 모델의 예측이 얼마나 잘못되었는지에 대한 손실 값을 계산.\n",
    "    loss= loss_fn(y_preds, y_test)\n",
    "\n",
    "    # 3. optimizer zero grad (최적화 함수 초기화) : 매 에포마다 누적되므로, 각 전방 전달마다 새로 시작하도록 0으로 설정.\n",
    "    optimizer.zero_grad()\n",
    "\n",
    "    # 4. loss backward \n",
    "    #  손실 함수에 대한 역전파를 수행합니다( `requires_grad=True`인 모든 매개변수의 기울기를 계산합니다)\n",
    "    loss.backward()\n",
    " \n",
    "    # 5. optimizer step \n",
    "    # `loss.backward()`로 계산된 기울기에 따라 모델의 매개변수를 업데이트하는 최적화 함수를 단계를 진행\n",
    "    optimizer.step() # 루프를 통해 최적화가 누적되므로 다음 루프 반복을 위해 3단계에서 이를 초기화.\n",
    "\n",
    "    # 모델을 평가 모드로 설정\n",
    "    # 훈련이 아닌 평가를 원한다고 모델에게 알려준다. (훈련에 사용되지만 평가에는 사용되지 않는 기능을 비활성화)\n",
    "    model_0.eval() \n",
    "\n",
    "    # 더 빠른 성능을 위한 추론 : `torch.inference_mode()` 컨텍스트 관리자를 활성화하여 경사 추적과 같은 기능을 비활성화(추론에는 경사 추적이 필요하지 않다.)\n",
    "    with torch.inference_mode():\n",
    "\n",
    "        # 1. forward 전달\n",
    "        # 모델을 통해 테스트 데이터를 전달합니다(이는 모델의 구현된 `forward()` 메서드를 호출합니다)\n",
    "        test_pred = model_0(X_test) \n",
    "\n",
    "        # 2. 손실 계산\n",
    "        # 테스트 손실 값 계산(모델의 예측이 테스트 데이터셋에서 얼마나 잘못되었는지, 낮을수록 더 좋음)\n",
    "        test_loss = loss_fn(test_pred, y_test)\n",
    "\n",
    "    # 3. 10번째 epoch마다 상태 출력\n",
    "    # 훈련/테스트 중 모델의 진행 상황을 ~10 에포크마다 출력 (참고: 여기에 출력되는 것은 특정 문제에 맞게 조정할 수 있다.)\n",
    "    if epoch % 10 == 0:\n",
    "        epoch_count.append(epoch)\n",
    "        loss_values.append(loss)\n",
    "        test_loss_values.append(test_loss)\n",
    "        print(f\"Epoch : {epoch} | Loss : {loss} | Test loss : {test_loss}\")\n",
    "\n",
    "        # 모델의 매개변수 출력\n",
    "        print(model_0.state_dict())\n"
   ]
  },
  {
   "cell_type": "code",
   "execution_count": null,
   "metadata": {},
   "outputs": [],
   "source": [
    "epoch_count, loss_values, test_loss_values"
   ]
  },
  {
   "cell_type": "code",
   "execution_count": 64,
   "metadata": {},
   "outputs": [
    {
     "data": {
      "text/plain": [
       "(array([0.49453616, 0.31532624, 0.13611642, 0.00582951, 0.00588003,\n",
       "        0.00560547, 0.00544746, 0.00529145, 0.00520974, 0.00521536,\n",
       "        0.0052327 , 0.00477541, 0.00524264, 0.00451027, 0.00446389,\n",
       "        0.00438086, 0.0097485 , 0.0097485 , 0.0097485 , 0.0097485 ],\n",
       "       dtype=float32),\n",
       " array([0.4766152 , 0.29740524, 0.11819541, 0.00587019, 0.00587581,\n",
       "        0.00558046, 0.00542247, 0.0052691 , 0.0053441 , 0.00504441,\n",
       "        0.00572032, 0.00475039, 0.00553565, 0.00478779, 0.00457301,\n",
       "        0.00455898, 0.00817246, 0.00817246, 0.00817246, 0.00817246],\n",
       "       dtype=float32))"
      ]
     },
     "execution_count": 64,
     "metadata": {},
     "output_type": "execute_result"
    }
   ],
   "source": [
    "import numpy as np\n",
    "\n",
    "np.array(torch.tensor(loss_values).numpy()), np.array(torch.tensor(test_loss_values).cpu().numpy())"
   ]
  },
  {
   "cell_type": "code",
   "execution_count": 65,
   "metadata": {},
   "outputs": [
    {
     "data": {
      "text/plain": [
       "<matplotlib.legend.Legend at 0x148c79ac0>"
      ]
     },
     "execution_count": 65,
     "metadata": {},
     "output_type": "execute_result"
    },
    {
     "data": {
      "image/png": "[encoded data removed]",
      "text/plain": [
       "<Figure size 640x480 with 1 Axes>"
      ]
     },
     "metadata": {},
     "output_type": "display_data"
    }
   ],
   "source": [
    "# plot the loss curves\n",
    "plt.plot(epoch_count, np.array(torch.tensor(loss_values).numpy()), label=\"Train loss\")\n",
    "plt.plot(epoch_count, np.array(torch.tensor(test_loss_values).numpy()), label=\"Test loss\")\n",
    "plt.title(\"Training and test loss culves\")\n",
    "plt.ylabel(\"Loss\")\n",
    "plt.xlabel(\"Epochs\")\n",
    "plt.legend()\n"
   ]
  },
  {
   "cell_type": "code",
   "execution_count": null,
   "metadata": {},
   "outputs": [],
   "source": [
    "# 새로운 예측 시각화\n",
    "plot_predictions(predictions=test_pred)\n"
   ]
  },
  {
   "cell_type": "code",
   "execution_count": null,
   "metadata": {},
   "outputs": [],
   "source": [
    "model_0.state_dict()"
   ]
  },
  {
   "cell_type": "code",
   "execution_count": null,
   "metadata": {},
   "outputs": [],
   "source": [
    "weight, bias"
   ]
  },
  {
   "cell_type": "markdown",
   "metadata": {},
   "source": [
    "## PyTorch에서 모델 저장하기\n",
    "\n",
    "PyTorch에서 모델을 저장하고 로드하는 데 사용하는 세 가지 주요 메서드가 있다.\n",
    "\n",
    "1. `torch.save()` - Python의 **pickle** 형식으로 PyTorch 객체를 저장\n",
    "2. `torch.load()` - 저장된 PyTorch 객체를 로드\n",
    "3. `torch.nn.Module.load_state_dict()` - 이 메서드를 사용하여 모델의 저장된 상태 사전을 로드.\n",
    "\n",
    "PyTorch save & load code tutorial + extra-curriculum: https://pytorch.org/tutorials/beginner/saving_loading_models.html#saving-loading-model-for-inference\n"
   ]
  },
  {
   "cell_type": "code",
   "execution_count": 68,
   "metadata": {},
   "outputs": [
    {
     "name": "stdout",
     "output_type": "stream",
     "text": [
      " Saving model to : models/01_pytorch_workflow_model_0.pth\n",
      "<bound method Module.state_dict of LinearRegressionModel()>\n"
     ]
    }
   ],
   "source": [
    "# Saving our PyTorch model\n",
    "from pathlib import Path\n",
    "\n",
    "# 1. Create models directory\n",
    "MODEL_PATH = Path(\"models\")\n",
    "MODEL_PATH.mkdir(parents=True, exist_ok=True)\n",
    "\n",
    "# 2. Create model save path\n",
    "MODEL_NAME = \"01_pytorch_workflow_model_0.pth\"\n",
    "MODEL_SAVE_PATH = MODEL_PATH / MODEL_NAME\n",
    "print(f\" Saving model to : {MODEL_SAVE_PATH}\")\n",
    "torch.save(obj=model_0.state_dict(),\n",
    "           f=MODEL_SAVE_PATH)\n",
    "\n",
    "# 3. Saving the model state dict\n",
    "print((model_0.state_dict)) "
   ]
  },
  {
   "cell_type": "code",
   "execution_count": 69,
   "metadata": {},
   "outputs": [
    {
     "name": "stdout",
     "output_type": "stream",
     "text": [
      "total 8\n",
      "-rw-r--r--@ 1 ruahkim  staff  1680 Jan 18 16:54 01_pytorch_workflow_model_0.pth\n"
     ]
    }
   ],
   "source": [
    "!ls -l models/"
   ]
  },
  {
   "cell_type": "code",
   "execution_count": 73,
   "metadata": {},
   "outputs": [
    {
     "data": {
      "text/plain": [
       "OrderedDict([('weights', tensor([0.6117])), ('bias', tensor([0.3688]))])"
      ]
     },
     "execution_count": 73,
     "metadata": {},
     "output_type": "execute_result"
    }
   ],
   "source": [
    "model_0.state_dict()"
   ]
  },
  {
   "cell_type": "markdown",
   "metadata": {},
   "source": [
    "## PyTorch 모델 로드하기\n",
    " \n",
    "모델의 `state_dict()`를 저장했기 때문에, 모델 클래스의 새로운 인스턴스를 생성하고 저장된 `state_dict()` 정보를 로드한다."
   ]
  },
  {
   "cell_type": "code",
   "execution_count": 72,
   "metadata": {},
   "outputs": [
    {
     "name": "stderr",
     "output_type": "stream",
     "text": [
      "/var/folders/dt/dsq7jdxd2kb07j1llwz_5dmr0000gn/T/ipykernel_82277/861577324.py:5: FutureWarning: You are using `torch.load` with `weights_only=False` (the current default value), which uses the default pickle module implicitly. It is possible to construct malicious pickle data which will execute arbitrary code during unpickling (See https://github.com/pytorch/pytorch/blob/main/SECURITY.md#untrusted-models for more details). In a future release, the default value for `weights_only` will be flipped to `True`. This limits the functions that could be executed during unpickling. Arbitrary objects will no longer be allowed to be loaded via this mode unless they are explicitly allowlisted by the user via `torch.serialization.add_safe_globals`. We recommend you start setting `weights_only=True` for any use case where you don't have full control of the loaded file. Please open an issue on GitHub for any issues related to this experimental feature.\n",
      "  loaded_model_0.load_state_dict(torch.load(f=MODEL_SAVE_PATH))\n"
     ]
    },
    {
     "data": {
      "text/plain": [
       "<All keys matched successfully>"
      ]
     },
     "execution_count": 72,
     "metadata": {},
     "output_type": "execute_result"
    }
   ],
   "source": [
    "# 저장된 state_dict()를 로드하려면 모델 클래스의 새 인스턴스를 생성해야 합니다.\n",
    "loaded_model_0 = LinearRegressionModel()\n",
    "\n",
    "# 저장된 model_0의 state_dict를 로드합니다 (이렇게 하면 새로운 인스턴스가 업데이트된 매개변수로 업데이트됩니다)\n",
    "loaded_model_0.load_state_dict(torch.load(f=MODEL_SAVE_PATH))\n"
   ]
  },
  {
   "cell_type": "code",
   "execution_count": 74,
   "metadata": {},
   "outputs": [
    {
     "data": {
      "text/plain": [
       "OrderedDict([('weights', tensor([0.6117])), ('bias', tensor([0.3688]))])"
      ]
     },
     "execution_count": 74,
     "metadata": {},
     "output_type": "execute_result"
    }
   ],
   "source": [
    "loaded_model_0.state_dict()"
   ]
  },
  {
   "cell_type": "code",
   "execution_count": 75,
   "metadata": {},
   "outputs": [
    {
     "data": {
      "text/plain": [
       "tensor([[0.8582],\n",
       "        [0.8704],\n",
       "        [0.8827],\n",
       "        [0.8949],\n",
       "        [0.9071],\n",
       "        [0.9194],\n",
       "        [0.9316],\n",
       "        [0.9438],\n",
       "        [0.9561],\n",
       "        [0.9683]])"
      ]
     },
     "execution_count": 75,
     "metadata": {},
     "output_type": "execute_result"
    }
   ],
   "source": [
    "# Make some predictions with our loaded model\n",
    "loaded_model_0.eval()\n",
    "with torch.inference_mode():\n",
    "    loaded_model_preds = loaded_model_0(X_test)\n",
    "\n",
    "loaded_model_preds"
   ]
  },
  {
   "cell_type": "code",
   "execution_count": 81,
   "metadata": {},
   "outputs": [
    {
     "data": {
      "text/plain": [
       "tensor([[0.8582],\n",
       "        [0.8704],\n",
       "        [0.8827],\n",
       "        [0.8949],\n",
       "        [0.9071],\n",
       "        [0.9194],\n",
       "        [0.9316],\n",
       "        [0.9438],\n",
       "        [0.9561],\n",
       "        [0.9683]])"
      ]
     },
     "execution_count": 81,
     "metadata": {},
     "output_type": "execute_result"
    }
   ],
   "source": [
    "# Make some models preds\n",
    "model_0.eval()\n",
    "with torch.inference_mode():\n",
    "    y_preds = model_0(X_test)\n",
    "y_preds"
   ]
  },
  {
   "cell_type": "code",
   "execution_count": 80,
   "metadata": {},
   "outputs": [
    {
     "data": {
      "text/plain": [
       "tensor([[True],\n",
       "        [True],\n",
       "        [True],\n",
       "        [True],\n",
       "        [True],\n",
       "        [True],\n",
       "        [True],\n",
       "        [True],\n",
       "        [True],\n",
       "        [True]])"
      ]
     },
     "execution_count": 80,
     "metadata": {},
     "output_type": "execute_result"
    }
   ],
   "source": [
    "# Compare loaded model preds with original model preds\n",
    "y_preds == loaded_model_preds\n"
   ]
  },
  {
   "cell_type": "code",
   "execution_count": null,
   "metadata": {},
   "outputs": [],
   "source": []
  }
 ],
 "metadata": {
  "kernelspec": {
   "display_name": "pytorch",
   "language": "python",
   "name": "python3"
  },
  "language_info": {
   "codemirror_mode": {
    "name": "ipython",
    "version": 3
   },
   "file_extension": ".py",
   "mimetype": "text/x-python",
   "name": "python",
   "nbconvert_exporter": "python",
   "pygments_lexer": "ipython3",
   "version": "3.8.13"
  }
 },
 "nbformat": 4,
 "nbformat_minor": 2
}
