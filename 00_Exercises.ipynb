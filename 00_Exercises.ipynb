{
 "cells": [
  {
   "cell_type": "markdown",
   "metadata": {},
   "source": [
    "# 00. PyTorch Fundamentals Exercises\n",
    "\n",
    "### 1. Documentation reading \n",
    "\n",
    "A big part of deep learning (and learning to code in general) is getting familiar with the documentation of a certain framework you're using. We'll be using the PyTorch documentation a lot throughout the rest of this course. So I'd recommend spending 10-minutes reading the following (it's okay if you don't get some things for now, the focus is not yet full understanding, it's awareness):\n",
    "  * The documentation on [`torch.Tensor`](https://pytorch.org/docs/stable/tensors.html#torch-tensor).\n",
    "  * The documentation on [`torch.cuda`](https://pytorch.org/docs/master/notes/cuda.html#cuda-semantics).\n"
   ]
  },
  {
   "cell_type": "code",
   "execution_count": null,
   "metadata": {},
   "outputs": [],
   "source": [
    "# No code solution (reading)"
   ]
  },
  {
   "cell_type": "markdown",
   "metadata": {},
   "source": [
    "### 2. Create a random tensor with shape (7, 7)."
   ]
  },
  {
   "cell_type": "code",
   "execution_count": 1,
   "metadata": {},
   "outputs": [
    {
     "data": {
      "text/plain": [
       "tensor([[0.0416, 0.2432, 0.4920, 0.3199, 0.0592, 0.0659, 0.1383],\n",
       "        [0.4136, 0.6571, 0.8839, 0.8738, 0.2669, 0.3505, 0.9486],\n",
       "        [0.5983, 0.4291, 0.8683, 0.6311, 0.8153, 0.3301, 0.6763],\n",
       "        [0.8702, 0.6907, 0.5066, 0.7432, 0.0061, 0.5795, 0.3222],\n",
       "        [0.0985, 0.9307, 0.2538, 0.9695, 0.0831, 0.2705, 0.0517],\n",
       "        [0.6777, 0.7649, 0.9396, 0.5099, 0.6459, 0.3689, 0.9958],\n",
       "        [0.5018, 0.6674, 0.9456, 0.4723, 0.0132, 0.7839, 0.8841]])"
      ]
     },
     "execution_count": 1,
     "metadata": {},
     "output_type": "execute_result"
    }
   ],
   "source": [
    "# Import torch\n",
    "import torch\n",
    "\n",
    "# Create random tensor\n",
    "torch.rand(7,7)"
   ]
  },
  {
   "cell_type": "markdown",
   "metadata": {},
   "source": [
    "### 3. Perform a matrix multiplication on the tensor from 2 with another random tensor with shape `(1, 7)` (hint: you may have to transpose the second tensor)."
   ]
  },
  {
   "cell_type": "code",
   "execution_count": 11,
   "metadata": {},
   "outputs": [
    {
     "data": {
      "text/plain": [
       "tensor([[1.1061],\n",
       "        [0.9868],\n",
       "        [1.8999],\n",
       "        [0.7716],\n",
       "        [1.3174],\n",
       "        [1.6353],\n",
       "        [1.7395]])"
      ]
     },
     "execution_count": 11,
     "metadata": {},
     "output_type": "execute_result"
    }
   ],
   "source": [
    "tensor_1 = torch.rand(7, 7)\n",
    "tensor_2 = torch.rand(1, 7)\n",
    "\n",
    "tensor_1.matmul(tensor_2.T) # transpose를 사용하여 행렬 곱셈 수행"
   ]
  },
  {
   "cell_type": "markdown",
   "metadata": {},
   "source": [
    "### 4. Set the random seed to `0` and do 2 & 3 over again.\n",
    "\n",
    "The output should be:\n",
    "```\n",
    "(tensor([[1.8542],\n",
    "         [1.9611],\n",
    "         [2.2884],\n",
    "         [3.0481],\n",
    "         [1.7067],\n",
    "         [2.5290],\n",
    "         [1.7989]]), torch.Size([7, 1]))\n",
    "```"
   ]
  },
  {
   "cell_type": "code",
   "execution_count": 18,
   "metadata": {},
   "outputs": [
    {
     "data": {
      "text/plain": [
       "(tensor([[1.8542],\n",
       "         [1.9611],\n",
       "         [2.2884],\n",
       "         [3.0481],\n",
       "         [1.7067],\n",
       "         [2.5290],\n",
       "         [1.7989]]),\n",
       " torch.Size([7, 1]))"
      ]
     },
     "execution_count": 18,
     "metadata": {},
     "output_type": "execute_result"
    }
   ],
   "source": [
    "# Set manual seed\n",
    "RANDOM_SEED = 0\n",
    "\n",
    "# Create two random tensors\n",
    "torch.manual_seed(RANDOM_SEED)\n",
    "random_tensor_1 = torch.rand(7, 7)\n",
    "random_tensor_2 = torch.rand(7, 1)\n",
    "\n",
    "# random_tensor_1, random_tensor_1.shape, random_tensor_2, random_tensor_2.shape\n",
    "\n",
    "# Matrix multiply tensors\n",
    "matmul_result = random_tensor_1.matmul(random_tensor_2)\n",
    "matmul_result, matmul_result.shape"
   ]
  },
  {
   "cell_type": "markdown",
   "metadata": {},
   "source": [
    "### 5. Speaking of random seeds, we saw how to set it with `torch.manual_seed()` but is there a GPU equivalent? (hint: you'll need to look into the documentation for `torch.cuda` for this one)\n",
    "  * If there is, set the GPU random seed to `1234`."
   ]
  },
  {
   "cell_type": "code",
   "execution_count": 26,
   "metadata": {},
   "outputs": [
    {
     "data": {
      "text/plain": [
       "tensor([[0.8163],\n",
       "        [0.4423],\n",
       "        [0.2768],\n",
       "        [0.8998],\n",
       "        [0.0960],\n",
       "        [0.5537],\n",
       "        [0.3953]])"
      ]
     },
     "execution_count": 26,
     "metadata": {},
     "output_type": "execute_result"
    }
   ],
   "source": [
    "torch.mps.manual_seed(1234)\n",
    "mps_tensor = torch.rand(7,1)\n",
    "mps_tensor"
   ]
  },
  {
   "cell_type": "markdown",
   "metadata": {},
   "source": [
    "\n",
    "### 6. Create two random tensors of shape `(2, 3)` and send them both to the GPU (you'll need access to a GPU for this). Set `torch.manual_seed(1234)` when creating the tensors (this doesn't have to be the GPU random seed). The output should be something like:\n",
    "\n",
    "```\n",
    "Device: cuda\n",
    "(tensor([[0.0290, 0.4019, 0.2598],\n",
    "         [0.3666, 0.0583, 0.7006]], device='cuda:0'),\n",
    " tensor([[0.0518, 0.4681, 0.6738],\n",
    "         [0.3315, 0.7837, 0.5631]], device='cuda:0'))\n",
    "```"
   ]
  },
  {
   "cell_type": "code",
   "execution_count": 34,
   "metadata": {},
   "outputs": [
    {
     "name": "stdout",
     "output_type": "stream",
     "text": [
      "Device: mps\n"
     ]
    },
    {
     "data": {
      "text/plain": [
       "(tensor([[0.3603, 0.6477, 0.9110],\n",
       "         [0.6359, 0.2634, 0.2650]], device='mps:0'),\n",
       " tensor([[0.0273, 0.6080, 0.2194],\n",
       "         [0.0542, 0.9384, 0.1753]], device='mps:0'))"
      ]
     },
     "execution_count": 34,
     "metadata": {},
     "output_type": "execute_result"
    }
   ],
   "source": [
    "\n",
    "# Set random seed\n",
    "torch.mps.manual_seed(1234)\n",
    "\n",
    "# Check for access to MPS\n",
    "device = \"mps\" if torch.backends.mps.is_available() else \"cpu\"\n",
    "print(f\"Device: {device}\")\n",
    "\n",
    "# Create two random tensors on mps\n",
    "tensor_1 = torch.rand(2, 3).to(device)\n",
    "tensor_2 = torch.rand(2, 3).to(device)\n",
    "\n",
    "tensor_1, tensor_2"
   ]
  },
  {
   "cell_type": "markdown",
   "metadata": {},
   "source": [
    "\n",
    "### 7. Perform a matrix multiplication on the tensors you created in 6 (again, you may have to adjust the shapes of one of the tensors).\n",
    "\n",
    "The output should look like:\n",
    "```\n",
    "(tensor([[0.3647, 0.4709],\n",
    "         [0.5184, 0.5617]], device='cuda:0'), torch.Size([2, 2]))\n",
    "```"
   ]
  },
  {
   "cell_type": "code",
   "execution_count": 33,
   "metadata": {},
   "outputs": [
    {
     "data": {
      "text/plain": [
       "(tensor([[0.2946, 0.3957],\n",
       "         [0.4857, 0.8738]], device='mps:0'),\n",
       " torch.Size([2, 2]))"
      ]
     },
     "execution_count": 33,
     "metadata": {},
     "output_type": "execute_result"
    }
   ],
   "source": [
    "# Perform matmul on tensor_A and tensor_B\n",
    "tensor_A = torch.rand(2, 3)\n",
    "tensor_B = torch.rand(2, 3)\n",
    "\n",
    "maxmul_tensors = tensor_A.matmul(tensor_B.T)\n",
    "result = maxmul_tensors.to(device)\n",
    "result, result.shape"
   ]
  },
  {
   "cell_type": "markdown",
   "metadata": {},
   "source": [
    "### 8. Find the maximum and minimum values of the output of 7."
   ]
  },
  {
   "cell_type": "code",
   "execution_count": 35,
   "metadata": {},
   "outputs": [
    {
     "data": {
      "text/plain": [
       "(tensor(0.8738, device='mps:0'), tensor(0.2946, device='mps:0'))"
      ]
     },
     "execution_count": 35,
     "metadata": {},
     "output_type": "execute_result"
    }
   ],
   "source": [
    "result.max(), result.min()"
   ]
  },
  {
   "cell_type": "markdown",
   "metadata": {},
   "source": [
    "### 9. Find the maximum and minimum index values of the output of 7."
   ]
  },
  {
   "cell_type": "code",
   "execution_count": 36,
   "metadata": {},
   "outputs": [
    {
     "data": {
      "text/plain": [
       "(tensor(3, device='mps:0'), tensor(0, device='mps:0'))"
      ]
     },
     "execution_count": 36,
     "metadata": {},
     "output_type": "execute_result"
    }
   ],
   "source": [
    "result.argmax(), result.argmin()"
   ]
  },
  {
   "cell_type": "markdown",
   "metadata": {},
   "source": [
    "\n",
    "### 10. Make a random tensor with shape `(1, 1, 1, 10)` and then create a new tensor with all the `1` dimensions removed to be left with a tensor of shape `(10)`. Set the seed to `7` when you create it and print out the first tensor and it's shape as well as the second tensor and it's shape.\n",
    "\n",
    "The output should look like:\n",
    "\n",
    "```\n",
    "tensor([[[[0.5349, 0.1988, 0.6592, 0.6569, 0.2328, 0.4251, 0.2071, 0.6297,\n",
    "           0.3653, 0.8513]]]]) torch.Size([1, 1, 1, 10])\n",
    "tensor([0.5349, 0.1988, 0.6592, 0.6569, 0.2328, 0.4251, 0.2071, 0.6297, 0.3653,\n",
    "        0.8513]) torch.Size([10])\n",
    "```"
   ]
  },
  {
   "cell_type": "code",
   "execution_count": 65,
   "metadata": {},
   "outputs": [
    {
     "name": "stdout",
     "output_type": "stream",
     "text": [
      "tensor([[[[0.4986, 0.2578, 0.9991, 0.9883, 0.1229, 0.0947, 0.1210, 0.4976,\n",
      "           0.3725, 0.1727]]]]) torch.Size([1, 1, 1, 10])\n",
      "tensor([0.4986, 0.2578, 0.9991, 0.9883, 0.1229, 0.0947, 0.1210, 0.4976, 0.3725,\n",
      "        0.1727]) torch.Size([10])\n"
     ]
    }
   ],
   "source": [
    "# Set seed\n",
    "RANDOM_SEED = 7\n",
    "\n",
    "# Create random tensor\n",
    "x = torch.rand(1, 1, 1, 10)\n",
    "\n",
    "# Remove single dimensions\n",
    "x_squeezed = x.squeeze()\n",
    "\n",
    "\n",
    "# Print out tensors and their shapes\n",
    "print(x, x.shape)\n",
    "print(x_squeezed, x_squeezed.shape)"
   ]
  },
  {
   "cell_type": "code",
   "execution_count": 66,
   "metadata": {},
   "outputs": [
    {
     "name": "stdout",
     "output_type": "stream",
     "text": [
      "tensor([[[[[0.4986, 0.2578, 0.9991, 0.9883, 0.1229, 0.0947, 0.1210, 0.4976,\n",
      "            0.3725, 0.1727]]]]]) torch.Size([1, 1, 1, 1, 10])\n",
      "tensor([[[[[[[0.4986, 0.2578, 0.9991, 0.9883, 0.1229, 0.0947, 0.1210, 0.4976,\n",
      "              0.3725, 0.1727]]]]]]]) torch.Size([1, 1, 1, 1, 1, 1, 10])\n"
     ]
    }
   ],
   "source": [
    "x_unsqeezed = x.unsqueeze(dim=0)\n",
    "\n",
    "x_reshaped = x.reshape(1,1,1,1,1,1,10)\n",
    "\n",
    "print(x_unsqeezed, x_unsqeezed.shape)\n",
    "print(x_reshaped, x_reshaped.shape)"
   ]
  },
  {
   "cell_type": "code",
   "execution_count": 64,
   "metadata": {},
   "outputs": [
    {
     "name": "stdout",
     "output_type": "stream",
     "text": [
      "tensor([[0.7898, 0.4503, 0.6522, 0.3794, 0.6752, 0.1378, 0.2060, 0.2462, 0.9595,\n",
      "         0.3655],\n",
      "        [0.7898, 0.4503, 0.6522, 0.3794, 0.6752, 0.1378, 0.2060, 0.2462, 0.9595,\n",
      "         0.3655]]) torch.Size([2, 10])\n"
     ]
    }
   ],
   "source": [
    "x_stacked = torch.stack([x_squeezed, x_squeezed], dim=0)\n",
    "print(x_stacked, x_stacked.shape)\n"
   ]
  },
  {
   "cell_type": "code",
   "execution_count": null,
   "metadata": {},
   "outputs": [],
   "source": []
  }
 ],
 "metadata": {
  "kernelspec": {
   "display_name": "pytorch",
   "language": "python",
   "name": "python3"
  },
  "language_info": {
   "codemirror_mode": {
    "name": "ipython",
    "version": 3
   },
   "file_extension": ".py",
   "mimetype": "text/x-python",
   "name": "python",
   "nbconvert_exporter": "python",
   "pygments_lexer": "ipython3",
   "version": "3.8.13"
  }
 },
 "nbformat": 4,
 "nbformat_minor": 2
}
